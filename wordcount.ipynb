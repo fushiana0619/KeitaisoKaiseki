{
 "cells": [
  {
   "cell_type": "code",
   "execution_count": 114,
   "metadata": {},
   "outputs": [],
   "source": [
    "from janome.tokenizer import Tokenizer\n",
    "import zipfile\n",
    "import os.path, urllib.request as request"
   ]
  },
  {
   "cell_type": "code",
   "execution_count": 115,
   "metadata": {},
   "outputs": [],
   "source": [
    "#データファイルをダウンロードする"
   ]
  },
  {
   "cell_type": "code",
   "execution_count": 116,
   "metadata": {},
   "outputs": [],
   "source": [
    "#urlからzipファイルをダウンロード\n",
    "url = \"https://www.aozora.gr.jp/cards/000081/files/1058_ruby_4709.zip\""
   ]
  },
  {
   "cell_type": "code",
   "execution_count": 117,
   "metadata": {},
   "outputs": [],
   "source": [
    "#ダウンロードしたzipのフォルダ名\n",
    "localfile = \"1058_ruby_4709\""
   ]
  },
  {
   "cell_type": "code",
   "execution_count": 118,
   "metadata": {},
   "outputs": [],
   "source": [
    "#Pathにzipファイルがない場合ダウンロードする\n",
    "if not os.path.exists(localfile):\n",
    "    print(\"ファイルをダウンロードします\")\n",
    "    #実際のダウンロード処理\n",
    "    request.urlretrieve(url,localfile)"
   ]
  },
  {
   "cell_type": "code",
   "execution_count": 119,
   "metadata": {},
   "outputs": [],
   "source": [
    "#zipファイルを読み取り専用で開く\n",
    "zipfile = zipfile.ZipFile(localfile, 'r')"
   ]
  },
  {
   "cell_type": "code",
   "execution_count": 120,
   "metadata": {},
   "outputs": [],
   "source": [
    "#解凍したzipファイルの中にあるテキストファイルを開く（読み取り専用）\n",
    "file = zipfile.open('haruto_shura.txt','r')"
   ]
  },
  {
   "cell_type": "code",
   "execution_count": 121,
   "metadata": {},
   "outputs": [],
   "source": [
    "#バイナリデータ\n",
    "bindata = file.read()"
   ]
  },
  {
   "cell_type": "code",
   "execution_count": 122,
   "metadata": {},
   "outputs": [],
   "source": [
    "textdata = bindata.decode('shift_jis')"
   ]
  },
  {
   "cell_type": "code",
   "execution_count": 123,
   "metadata": {},
   "outputs": [],
   "source": [
    "t = Tokenizer()"
   ]
  },
  {
   "cell_type": "code",
   "execution_count": 124,
   "metadata": {},
   "outputs": [],
   "source": [
    "#ディクショナリの定義\n",
    "worddic = {}"
   ]
  },
  {
   "cell_type": "code",
   "execution_count": 125,
   "metadata": {},
   "outputs": [],
   "source": [
    "#一行ずつ読み込む（lineはlist型になる)\n",
    "lines = textdata.split(\"\\r\\n\")"
   ]
  },
  {
   "cell_type": "code",
   "execution_count": 126,
   "metadata": {},
   "outputs": [],
   "source": [
    "#一行ずつ処理\n",
    "n = 0\n",
    "m = 0\n",
    "for line in lines:\n",
    "    #lineを形態素解析を行い、malistに入れる\n",
    "    #malist自体はlist型\n",
    "    #malistに入っている形態素は「janome.tokenizer.Token」型\n",
    "    malist = t.tokenize(line)\n",
    "    '''\n",
    "    if n == 100:\n",
    "        print(type(malist[0]))\n",
    "    '''\n",
    "    n += 1\n",
    "    #形態素ごとに判定を行う\n",
    "    #wは「janome.tokenizer.Token」型\n",
    "    for w in malist:\n",
    "        #wordは形態素(str型)\n",
    "        word = w.surface\n",
    "        #partには形態素の品詞が入っている(str型)\n",
    "        part = w.part_of_speech\n",
    "        '''\n",
    "        if n == 10:\n",
    "            print(type(word))\n",
    "            print(type(part))\n",
    "        '''\n",
    "        #partが名詞でない場合は無視\n",
    "        #厳密にはstring.find()なので「指定した文字列が現れるまでの文字数」する。（見つからない場合は-1を返す）\n",
    "        if part.find('名詞') < 0:\n",
    "            continue\n",
    "        #worddicに存在しない形態素の場合はworddicに追加する\n",
    "        if not word in worddic:\n",
    "            worddic[word] = 0\n",
    "        worddic[word] += 1\n",
    "        '''\n",
    "        m += 1\n",
    "        if m == 2:\n",
    "            print(worddic)\n",
    "        '''\n",
    "#print(worddic)\n",
    "    "
   ]
  },
  {
   "cell_type": "code",
   "execution_count": 130,
   "metadata": {},
   "outputs": [
    {
     "name": "stdout",
     "output_type": "stream",
     "text": [
      "二(302)\n",
      "-(282)\n",
      "＃(256)\n",
      "の(233)\n",
      "一(182)\n",
      "わたくし(142)\n",
      "つて(138)\n",
      "重(123)\n",
      "2(121)\n",
      "1(121)\n",
      "やう(119)\n",
      "括弧(118)\n",
      "雲(112)\n",
      "中(101)\n",
      "さ(92)\n",
      "字(91)\n",
      "九(89)\n",
      "下げ(87)\n",
      "※［＃(86)\n",
      "なか(81)\n",
      "ページ(79)\n",
      "改(78)\n",
      "見出し(78)\n",
      "こと(77)\n",
      "地(75)\n",
      "お(74)\n",
      "風(72)\n",
      "２(70)\n",
      "付き(70)\n",
      "それ(65)\n",
      "ひと(61)\n",
      "いま(61)\n",
      "［＃「(60)\n",
      "もの(59)\n",
      "ら(59)\n",
      "始め(59)\n",
      "54(59)\n",
      "55(59)\n",
      "三(52)\n",
      "とき(52)\n",
      "みんな(51)\n",
      "つた(45)\n",
      "ここ(44)\n",
      "たち(39)\n",
      "日(39)\n",
      "天(37)\n",
      "鳥(37)\n",
      "まつ(36)\n",
      "青(35)\n",
      "四(35)\n"
     ]
    }
   ],
   "source": [
    "#worddic.items()：dictionaryのkeyとvalueの両方を戻す(key、valueを返したい場合はそれぞれkeys、valuesとなる）（そのためkeysはdictionaryとなる）\n",
    "#key：何を用いてソートするか（この場合はdictionaryのvalueで並び替え。lambdaは無名関数）\n",
    "keys = sorted(worddic.items(),key = lambda x:x[1], reverse = True)\n",
    "#print(keys)\n",
    "#出現頻度上位50位を表示\n",
    "for word,cnt in keys[:50]:\n",
    "    #print(\"{0}({1})\\n\".format(word,cnt),end=\"\")\n",
    "    print(\"{0}({1})\".format(word,cnt))\n",
    "    "
   ]
  },
  {
   "cell_type": "code",
   "execution_count": null,
   "metadata": {},
   "outputs": [],
   "source": []
  },
  {
   "cell_type": "code",
   "execution_count": null,
   "metadata": {},
   "outputs": [],
   "source": []
  },
  {
   "cell_type": "code",
   "execution_count": null,
   "metadata": {},
   "outputs": [],
   "source": []
  },
  {
   "cell_type": "code",
   "execution_count": null,
   "metadata": {},
   "outputs": [],
   "source": []
  },
  {
   "cell_type": "code",
   "execution_count": null,
   "metadata": {},
   "outputs": [],
   "source": []
  },
  {
   "cell_type": "code",
   "execution_count": null,
   "metadata": {},
   "outputs": [],
   "source": []
  },
  {
   "cell_type": "code",
   "execution_count": null,
   "metadata": {},
   "outputs": [],
   "source": []
  }
 ],
 "metadata": {
  "kernelspec": {
   "display_name": "Python 3",
   "language": "python",
   "name": "python3"
  },
  "language_info": {
   "codemirror_mode": {
    "name": "ipython",
    "version": 3
   },
   "file_extension": ".py",
   "mimetype": "text/x-python",
   "name": "python",
   "nbconvert_exporter": "python",
   "pygments_lexer": "ipython3",
   "version": "3.6.6"
  }
 },
 "nbformat": 4,
 "nbformat_minor": 2
}
